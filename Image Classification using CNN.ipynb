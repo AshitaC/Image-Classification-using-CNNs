{
  "nbformat": 4,
  "nbformat_minor": 0,
  "metadata": {
    "accelerator": "GPU",
    "colab": {
      "provenance": [],
      "machine_shape": "hm",
      "toc_visible": true
    },
    "kernelspec": {
      "display_name": "Python 3",
      "language": "python",
      "name": "python3"
    },
    "language_info": {
      "codemirror_mode": {
        "name": "ipython",
        "version": 3
      },
      "file_extension": ".py",
      "mimetype": "text/x-python",
      "name": "python",
      "nbconvert_exporter": "python",
      "pygments_lexer": "ipython3",
      "version": "3.7.9"
    },
    "toc": {
      "base_numbering": 1,
      "nav_menu": {},
      "number_sections": true,
      "sideBar": true,
      "skip_h1_title": false,
      "title_cell": "Table of Contents",
      "title_sidebar": "Contents",
      "toc_cell": false,
      "toc_position": {
        "height": "calc(100% - 180px)",
        "left": "10px",
        "top": "150px",
        "width": "241.667px"
      },
      "toc_section_display": true,
      "toc_window_display": true
    },
    "varInspector": {
      "cols": {
        "lenName": 16,
        "lenType": 16,
        "lenVar": 40
      },
      "kernels_config": {
        "python": {
          "delete_cmd_postfix": "",
          "delete_cmd_prefix": "del ",
          "library": "var_list.py",
          "varRefreshCmd": "print(var_dic_list())"
        },
        "r": {
          "delete_cmd_postfix": ") ",
          "delete_cmd_prefix": "rm(",
          "library": "var_list.r",
          "varRefreshCmd": "cat(var_dic_list()) "
        }
      },
      "oldHeight": 204.516666,
      "position": {
        "height": "40px",
        "left": "1010px",
        "right": "20px",
        "top": "120px",
        "width": "250px"
      },
      "types_to_exclude": [
        "module",
        "function",
        "builtin_function_or_method",
        "instance",
        "_Feature"
      ],
      "varInspector_section_display": "none",
      "window_display": true
    }
  },
  "cells": [
    {
      "cell_type": "markdown",
      "metadata": {
        "id": "IyA7Xc4VmIAd"
      },
      "source": [
        "`Project`: **CIFAR10 Image classification using CNN**\n",
        "\n",
        "`Author`: **Ashita Chandnani** ECE 697\n",
        ""
      ]
    },
    {
      "cell_type": "markdown",
      "metadata": {
        "id": "vnTgUltomIAf"
      },
      "source": [
        "# Imports"
      ]
    },
    {
      "cell_type": "code",
      "metadata": {
        "colab": {
          "base_uri": "https://localhost:8080/",
          "height": 56
        },
        "id": "00xlbbTgmIAg",
        "outputId": "068da09a-8e89-4eb9-ea46-530969365c2d"
      },
      "source": [
        "import sys, os\n",
        "sys.version"
      ],
      "execution_count": null,
      "outputs": [
        {
          "output_type": "execute_result",
          "data": {
            "application/vnd.google.colaboratory.intrinsic+json": {
              "type": "string"
            },
            "text/plain": [
              "'3.6.9 (default, Oct  8 2020, 12:12:24) \\n[GCC 8.4.0]'"
            ]
          },
          "metadata": {
            "tags": []
          },
          "execution_count": 1
        }
      ]
    },
    {
      "cell_type": "code",
      "metadata": {
        "id": "b01rL8cvmIAi"
      },
      "source": [
        "from tensorflow.compat.v1 import InteractiveSession\n",
        "import tensorflow as tf\n",
        "from tensorflow.python.client import device_lib\n",
        "import numpy as np\n",
        "from keras import datasets, layers, models\n",
        "import IPython\n",
        "import sys, pickle, os, gzip\n",
        "import IPython.display as display\n",
        "from keras.utils import to_categorical\n",
        "from keras import regularizers\n",
        "import keras, warnings\n",
        "import matplotlib.pyplot as plt\n",
        "from keras.layers.normalization import BatchNormalization"
      ],
      "execution_count": null,
      "outputs": []
    },
    {
      "cell_type": "code",
      "metadata": {
        "colab": {
          "base_uri": "https://localhost:8080/"
        },
        "id": "0jo-JcAMmIAk",
        "outputId": "57867503-20a0-4eb8-b5dc-20bf7a2a99e8"
      },
      "source": [
        "device_lib.list_local_devices()"
      ],
      "execution_count": null,
      "outputs": [
        {
          "output_type": "execute_result",
          "data": {
            "text/plain": [
              "[name: \"/device:CPU:0\"\n",
              " device_type: \"CPU\"\n",
              " memory_limit: 268435456\n",
              " locality {\n",
              " }\n",
              " incarnation: 14741379600631508240, name: \"/device:XLA_CPU:0\"\n",
              " device_type: \"XLA_CPU\"\n",
              " memory_limit: 17179869184\n",
              " locality {\n",
              " }\n",
              " incarnation: 5355223858584989463\n",
              " physical_device_desc: \"device: XLA_CPU device\", name: \"/device:XLA_GPU:0\"\n",
              " device_type: \"XLA_GPU\"\n",
              " memory_limit: 17179869184\n",
              " locality {\n",
              " }\n",
              " incarnation: 13510660108226718898\n",
              " physical_device_desc: \"device: XLA_GPU device\", name: \"/device:GPU:0\"\n",
              " device_type: \"GPU\"\n",
              " memory_limit: 15695549568\n",
              " locality {\n",
              "   bus_id: 1\n",
              "   links {\n",
              "   }\n",
              " }\n",
              " incarnation: 5120367510166440426\n",
              " physical_device_desc: \"device: 0, name: Tesla P100-PCIE-16GB, pci bus id: 0000:00:04.0, compute capability: 6.0\"]"
            ]
          },
          "metadata": {
            "tags": []
          },
          "execution_count": 3
        }
      ]
    },
    {
      "cell_type": "code",
      "metadata": {
        "colab": {
          "base_uri": "https://localhost:8080/"
        },
        "id": "P18-dNa5mIAl",
        "outputId": "d6a19f1b-706c-4e8c-bdce-84f8b897b533"
      },
      "source": [
        "print('TF version:{}, Keras version:{}'.format(tf.__version__, keras.__version__))"
      ],
      "execution_count": null,
      "outputs": [
        {
          "output_type": "stream",
          "text": [
            "TF version:2.3.0, Keras version:2.4.3\n"
          ],
          "name": "stdout"
        }
      ]
    },
    {
      "cell_type": "markdown",
      "metadata": {
        "id": "GCZVRklZmIAm"
      },
      "source": [
        "# Load the data\n",
        "* The CIFAR-10 dataset comprises of 60000 32x32 colour images in 10 classes, with 6000 images per class.\n",
        "* There are 50000 training images and 10000 test images.\n",
        "\n",
        "* The test batch contains exactly 1000 randomly-selected images from each class."
      ]
    },
    {
      "cell_type": "code",
      "metadata": {
        "colab": {
          "base_uri": "https://localhost:8080/"
        },
        "id": "2XLgTbKKmIAm",
        "outputId": "6ebd99de-c4a0-482b-ba47-1917b7e558a9"
      },
      "source": [
        "\n",
        "(train_x, train_y), (test_x, test_y) = tf.keras.datasets.cifar10.load_data()\n",
        "\n",
        "train_x = train_x.reshape((50000, 32, 32, 3)).astype(\"float32\")\n",
        "test_x = test_x.reshape((10000, 32, 32, 3)).astype(\"float32\")\n",
        "\n",
        "print(train_x.shape)\n",
        "print(test_x.shape)"
      ],
      "execution_count": null,
      "outputs": [
        {
          "output_type": "stream",
          "text": [
            "Downloading data from https://www.cs.toronto.edu/~kriz/cifar-10-python.tar.gz\n",
            "170500096/170498071 [==============================] - 2s 0us/step\n",
            "(50000, 32, 32, 3)\n",
            "(10000, 32, 32, 3)\n"
          ],
          "name": "stdout"
        }
      ]
    },
    {
      "cell_type": "markdown",
      "metadata": {
        "id": "7B1bj-AemIAn"
      },
      "source": [
        "##  Normalize pixel values to be between 0 and 1"
      ]
    },
    {
      "cell_type": "code",
      "metadata": {
        "colab": {
          "base_uri": "https://localhost:8080/"
        },
        "id": "aO_W84dnmIAo",
        "outputId": "24d677ee-0b1a-4333-9e72-913cf0c9870a"
      },
      "source": [
        "train_x, test_x = train_x / 255, test_x / 255\n",
        "print(train_x.shape)\n",
        "print(test_x.shape)"
      ],
      "execution_count": null,
      "outputs": [
        {
          "output_type": "stream",
          "text": [
            "(50000, 32, 32, 3)\n",
            "(10000, 32, 32, 3)\n"
          ],
          "name": "stdout"
        }
      ]
    },
    {
      "cell_type": "markdown",
      "metadata": {
        "id": "bq8JaD2CmIAp"
      },
      "source": [
        "## One hot vectorize labels"
      ]
    },
    {
      "cell_type": "code",
      "metadata": {
        "colab": {
          "base_uri": "https://localhost:8080/"
        },
        "id": "TTZVWHLqmIAp",
        "outputId": "43b29658-a889-4493-e143-7c3d79138109"
      },
      "source": [
        "train_y = to_categorical(train_y)\n",
        "print('train_y.shape:{}'.format(train_y.shape))\n",
        "\n",
        "test_y = to_categorical(test_y)\n",
        "print('test_y.shape:{}'.format(test_y.shape))\n",
        "\n",
        "print(train_y[0])\n"
      ],
      "execution_count": null,
      "outputs": [
        {
          "output_type": "stream",
          "text": [
            "train_y.shape:(50000, 10)\n",
            "test_y.shape:(10000, 10)\n",
            "[0. 0. 0. 0. 0. 0. 1. 0. 0. 0.]\n"
          ],
          "name": "stdout"
        }
      ]
    },
    {
      "cell_type": "markdown",
      "metadata": {
        "id": "KjVwSo0GmIAr"
      },
      "source": [
        "## Set up CNN\n",
        "* A simple convolutional neural network with the structure 128 256 256 512 512\n",
        "* Adam optimizer and Cross Entropy Loss with a learning rate ( 𝛼 ) set to 0.005."
      ]
    },
    {
      "cell_type": "code",
      "metadata": {
        "id": "hwHnTIjpmIAs"
      },
      "source": [
        "eta = 0.0001\n",
        "val_frac = 0.1 #Fraction of training data to be used for validation\n",
        "# FIRST CONVOLUTION LAYER\n",
        "nC1_kernels = 128 ##number of kernels in the first convolutional layer\n",
        "C1_kernel_shape = (3, 3) ## size of the kernel in the first convolutional layer (5,5)\n",
        "C1_stride = (1,1) ## stride of the convolution 1 pixel right and 1 pixel down\n",
        "C1_activation = 'relu' ## activation function of the C1 neurons\n",
        "P1_kernel_shape = (2, 2) ## Size of the pooling window (2,2)\n",
        "P1_stride = 2 ## stride of the pooling window\n",
        "\n",
        "# SECOND CONVOLUTION LAYER\n",
        "nC2_kernels = 256\n",
        "C2_kernel_shape = (3, 3)\n",
        "C2_stride = 1\n",
        "C2_activation = 'relu'\n",
        "P2_kernel_shape = (2, 2)\n",
        "P2_stride = 2\n",
        "\n",
        "# THIRD CONVOLUTION LAYER\n",
        "nC3_kernels = 256\n",
        "C3_kernel_shape = (3, 3)\n",
        "C3_stride = 1\n",
        "C3_activation = 'relu'\n",
        "P3_kernel_shape = (2, 2)\n",
        "P3_stride = 2\n",
        "\n",
        "# FOURTH CONVOLUTION LAYER\n",
        "nC4_kernels = 512\n",
        "C4_kernel_shape = (3, 3)\n",
        "C4_stride = 1\n",
        "C4_activation = 'relu'\n",
        "P4_kernel_shape = (2, 2)\n",
        "P4_stride = 2\n",
        "\n",
        "# FIFTH CONVOLUTION LAYER\n",
        "nC5_kernels = 512\n",
        "C5_kernel_shape = (3, 3)\n",
        "C5_stride = 1\n",
        "C5_activation = 'relu'\n",
        "P5_kernel_shape = (2, 2)\n",
        "P5_stride = 2\n",
        "\n",
        "# FULLY CONNECTED LAYER\n",
        "n_dense1 = 1024\n",
        "dense_activation1 = 'relu'\n",
        "\n",
        "# FULLY CONNECTED LAYER\n",
        "n_dense2 = 1024\n",
        "dense_activation2 = 'relu'\n",
        "\n",
        "# FINAL LAYER\n",
        "last_activation = 'softmax'\n",
        "cost_function = 'categorical_crossentropy'\n",
        "n_out = 10\n",
        "optimizer = 'adam' #'sgd'"
      ],
      "execution_count": null,
      "outputs": []
    },
    {
      "cell_type": "code",
      "metadata": {
        "colab": {
          "base_uri": "https://localhost:8080/"
        },
        "id": "fUFraADUmIAu",
        "outputId": "872c314e-f104-4054-e83e-9e40fe8753ea"
      },
      "source": [
        "model = tf.keras.Sequential()\n",
        "\n",
        "#FIRST CONVOLUTION LAYER\n",
        "model.add(tf.keras.layers.Conv2D(nC1_kernels, C1_kernel_shape, C1_stride, activation=C1_activation,\n",
        "                               padding=\"same\", input_shape=(32, 32, 3)))\n",
        "\n",
        "#model.add(tf.keras.layers.MaxPooling2D(P1_kernel_shape, P1_stride))\n",
        "model.add(tf.keras.layers.Dropout(0.2))\n",
        "model.add(tf.keras.layers.BatchNormalization())\n",
        "\n",
        "#SECOND CONVOLUTION LAYER\n",
        "model.add(tf.keras.layers.Conv2D(nC2_kernels, C2_kernel_shape, C2_stride, activation=C2_activation, padding=\"same\"))\n",
        "model.add(tf.keras.layers.MaxPooling2D(P2_kernel_shape, P2_stride))\n",
        "model.add(tf.keras.layers.Dropout(0.2))\n",
        "model.add(tf.keras.layers.BatchNormalization())\n",
        "\n",
        "#THIRD CONVOLUTION LAYER\n",
        "model.add(tf.keras.layers.Conv2D(nC3_kernels, C3_kernel_shape, C3_stride, activation=C3_activation,padding=\"same\"))\n",
        "model.add(tf.keras.layers.MaxPooling2D(P3_kernel_shape, P3_stride))\n",
        "model.add(tf.keras.layers.Dropout(0.2))\n",
        "model.add(tf.keras.layers.BatchNormalization())\n",
        "\n",
        "#FOURTH CONVOLUTION LAYER\n",
        "model.add(tf.keras.layers.Conv2D(nC4_kernels, C4_kernel_shape, C4_stride, activation=C4_activation,padding=\"same\"))\n",
        "model.add(tf.keras.layers.MaxPooling2D(P4_kernel_shape, P4_stride))\n",
        "model.add(tf.keras.layers.Dropout(0.2))\n",
        "model.add(tf.keras.layers.BatchNormalization())\n",
        "\n",
        "#FIFTH CONVOLUTION LAYER\n",
        "model.add(tf.keras.layers.Conv2D(nC5_kernels, C5_kernel_shape, C5_stride, activation=C5_activation,padding=\"same\"))\n",
        "model.add(tf.keras.layers.MaxPooling2D(P5_kernel_shape, P5_stride))\n",
        "model.add(tf.keras.layers.Dropout(0.2))\n",
        "model.add(tf.keras.layers.BatchNormalization())\n",
        "\n",
        "# The 64 pooled maps are 5x5\n",
        "model.add(tf.keras.layers.Flatten())\n",
        "model.add(tf.keras.layers.Dropout(0.2))\n",
        "model.add(tf.keras.layers.BatchNormalization())\n",
        "\n",
        "#FULLY CONNECTED LAYERS\n",
        "model.add(tf.keras.layers.Dense(n_dense1,kernel_regularizer=regularizers.l2(0.00001),\n",
        "                                kernel_initializer='glorot_normal', activation=dense_activation1))\n",
        "model.add(tf.keras.layers.Dropout(0.2))\n",
        "model.add(tf.keras.layers.BatchNormalization())\n",
        "model.add(tf.keras.layers.Dense(n_dense2,kernel_regularizer=regularizers.l2(0.00001),\n",
        "                                kernel_initializer='glorot_normal', activation=dense_activation2))\n",
        "\n",
        "\n",
        "model.add(tf.keras.layers.Dropout(0.2))\n",
        "model.add(tf.keras.layers.BatchNormalization())\n",
        "\n",
        "model.add(tf.keras.layers.Dense(n_out, kernel_regularizer=regularizers.l2(0.00001),kernel_initializer='glorot_normal', activation=last_activation))\n",
        "\n",
        "\n",
        "#COMPILE THE MODEL\n",
        "if(optimizer=='adam'):\n",
        "    optim = tf.keras.optimizers.Adam(lr=eta)\n",
        "else:\n",
        "    optim = tf.keras.optimizers.SGD(lr=eta)\n",
        "\n",
        "model.compile(optimizer=optim, loss=cost_function, metrics=['accuracy'])\n",
        "print(model.summary())\n",
        "\n",
        "#CALLBACK TO KERAS TO SAVE BEST MODEL WEIGHTS\n",
        "best_weights=\"cnn_weights_best.hdf5\"\n",
        "checkpoint = tf.keras.callbacks.ModelCheckpoint(best_weights, monitor='val_accuracy', verbose=1, save_best_only=True,\n",
        "                                                mode='max')\n"
      ],
      "execution_count": null,
      "outputs": [
        {
          "output_type": "stream",
          "text": [
            "Model: \"sequential\"\n",
            "_________________________________________________________________\n",
            "Layer (type)                 Output Shape              Param #   \n",
            "=================================================================\n",
            "conv2d (Conv2D)              (None, 32, 32, 128)       3584      \n",
            "_________________________________________________________________\n",
            "dropout (Dropout)            (None, 32, 32, 128)       0         \n",
            "_________________________________________________________________\n",
            "batch_normalization (BatchNo (None, 32, 32, 128)       512       \n",
            "_________________________________________________________________\n",
            "conv2d_1 (Conv2D)            (None, 32, 32, 256)       295168    \n",
            "_________________________________________________________________\n",
            "max_pooling2d (MaxPooling2D) (None, 16, 16, 256)       0         \n",
            "_________________________________________________________________\n",
            "dropout_1 (Dropout)          (None, 16, 16, 256)       0         \n",
            "_________________________________________________________________\n",
            "batch_normalization_1 (Batch (None, 16, 16, 256)       1024      \n",
            "_________________________________________________________________\n",
            "conv2d_2 (Conv2D)            (None, 16, 16, 256)       590080    \n",
            "_________________________________________________________________\n",
            "max_pooling2d_1 (MaxPooling2 (None, 8, 8, 256)         0         \n",
            "_________________________________________________________________\n",
            "dropout_2 (Dropout)          (None, 8, 8, 256)         0         \n",
            "_________________________________________________________________\n",
            "batch_normalization_2 (Batch (None, 8, 8, 256)         1024      \n",
            "_________________________________________________________________\n",
            "conv2d_3 (Conv2D)            (None, 8, 8, 512)         1180160   \n",
            "_________________________________________________________________\n",
            "max_pooling2d_2 (MaxPooling2 (None, 4, 4, 512)         0         \n",
            "_________________________________________________________________\n",
            "dropout_3 (Dropout)          (None, 4, 4, 512)         0         \n",
            "_________________________________________________________________\n",
            "batch_normalization_3 (Batch (None, 4, 4, 512)         2048      \n",
            "_________________________________________________________________\n",
            "conv2d_4 (Conv2D)            (None, 4, 4, 512)         2359808   \n",
            "_________________________________________________________________\n",
            "max_pooling2d_3 (MaxPooling2 (None, 2, 2, 512)         0         \n",
            "_________________________________________________________________\n",
            "dropout_4 (Dropout)          (None, 2, 2, 512)         0         \n",
            "_________________________________________________________________\n",
            "batch_normalization_4 (Batch (None, 2, 2, 512)         2048      \n",
            "_________________________________________________________________\n",
            "flatten (Flatten)            (None, 2048)              0         \n",
            "_________________________________________________________________\n",
            "dropout_5 (Dropout)          (None, 2048)              0         \n",
            "_________________________________________________________________\n",
            "batch_normalization_5 (Batch (None, 2048)              8192      \n",
            "_________________________________________________________________\n",
            "dense (Dense)                (None, 1024)              2098176   \n",
            "_________________________________________________________________\n",
            "dropout_6 (Dropout)          (None, 1024)              0         \n",
            "_________________________________________________________________\n",
            "batch_normalization_6 (Batch (None, 1024)              4096      \n",
            "_________________________________________________________________\n",
            "dense_1 (Dense)              (None, 1024)              1049600   \n",
            "_________________________________________________________________\n",
            "dropout_7 (Dropout)          (None, 1024)              0         \n",
            "_________________________________________________________________\n",
            "batch_normalization_7 (Batch (None, 1024)              4096      \n",
            "_________________________________________________________________\n",
            "dense_2 (Dense)              (None, 10)                10250     \n",
            "=================================================================\n",
            "Total params: 7,609,866\n",
            "Trainable params: 7,598,346\n",
            "Non-trainable params: 11,520\n",
            "_________________________________________________________________\n",
            "None\n"
          ],
          "name": "stdout"
        }
      ]
    },
    {
      "cell_type": "markdown",
      "metadata": {
        "id": "CFrY3W6EmIAw"
      },
      "source": [
        "## Train the CNN"
      ]
    },
    {
      "cell_type": "code",
      "metadata": {
        "id": "yopyfdLSmIAx",
        "scrolled": true,
        "colab": {
          "base_uri": "https://localhost:8080/"
        },
        "outputId": "4aca84cf-949c-4334-c7a2-569292665d1b"
      },
      "source": [
        "\n",
        "mini_batch_size = 32\n",
        "trained_model = model.fit(train_x,train_y, epochs=25, batch_size=mini_batch_size, callbacks=[checkpoint],\n",
        "                    validation_split=val_frac,verbose=0,shuffle=True)"
      ],
      "execution_count": null,
      "outputs": [
        {
          "output_type": "stream",
          "text": [
            "\n",
            "Epoch 00001: val_accuracy improved from -inf to 0.27480, saving model to cnn_weights_best.hdf5\n",
            "\n",
            "Epoch 00002: val_accuracy improved from 0.27480 to 0.47720, saving model to cnn_weights_best.hdf5\n",
            "\n",
            "Epoch 00003: val_accuracy improved from 0.47720 to 0.60500, saving model to cnn_weights_best.hdf5\n",
            "\n",
            "Epoch 00004: val_accuracy improved from 0.60500 to 0.69960, saving model to cnn_weights_best.hdf5\n",
            "\n",
            "Epoch 00005: val_accuracy improved from 0.69960 to 0.74360, saving model to cnn_weights_best.hdf5\n",
            "\n",
            "Epoch 00006: val_accuracy improved from 0.74360 to 0.76300, saving model to cnn_weights_best.hdf5\n",
            "\n",
            "Epoch 00007: val_accuracy improved from 0.76300 to 0.79620, saving model to cnn_weights_best.hdf5\n",
            "\n",
            "Epoch 00008: val_accuracy improved from 0.79620 to 0.79980, saving model to cnn_weights_best.hdf5\n",
            "\n",
            "Epoch 00009: val_accuracy improved from 0.79980 to 0.80520, saving model to cnn_weights_best.hdf5\n",
            "\n",
            "Epoch 00010: val_accuracy improved from 0.80520 to 0.82420, saving model to cnn_weights_best.hdf5\n",
            "\n",
            "Epoch 00011: val_accuracy improved from 0.82420 to 0.82700, saving model to cnn_weights_best.hdf5\n",
            "\n",
            "Epoch 00012: val_accuracy improved from 0.82700 to 0.84200, saving model to cnn_weights_best.hdf5\n",
            "\n",
            "Epoch 00013: val_accuracy did not improve from 0.84200\n",
            "\n",
            "Epoch 00014: val_accuracy improved from 0.84200 to 0.85500, saving model to cnn_weights_best.hdf5\n",
            "\n",
            "Epoch 00015: val_accuracy did not improve from 0.85500\n",
            "\n",
            "Epoch 00016: val_accuracy did not improve from 0.85500\n",
            "\n",
            "Epoch 00017: val_accuracy did not improve from 0.85500\n",
            "\n",
            "Epoch 00018: val_accuracy improved from 0.85500 to 0.86100, saving model to cnn_weights_best.hdf5\n",
            "\n",
            "Epoch 00019: val_accuracy did not improve from 0.86100\n",
            "\n",
            "Epoch 00020: val_accuracy improved from 0.86100 to 0.86300, saving model to cnn_weights_best.hdf5\n",
            "\n",
            "Epoch 00021: val_accuracy did not improve from 0.86300\n",
            "\n",
            "Epoch 00022: val_accuracy did not improve from 0.86300\n",
            "\n",
            "Epoch 00023: val_accuracy improved from 0.86300 to 0.86520, saving model to cnn_weights_best.hdf5\n",
            "\n",
            "Epoch 00024: val_accuracy improved from 0.86520 to 0.86980, saving model to cnn_weights_best.hdf5\n",
            "\n",
            "Epoch 00025: val_accuracy improved from 0.86980 to 0.87420, saving model to cnn_weights_best.hdf5\n"
          ],
          "name": "stdout"
        }
      ]
    },
    {
      "cell_type": "markdown",
      "metadata": {
        "id": "HR9kWDZ2mIAy"
      },
      "source": [
        "# Test the model at the end"
      ]
    },
    {
      "cell_type": "code",
      "metadata": {
        "colab": {
          "base_uri": "https://localhost:8080/"
        },
        "id": "oxNLXwHtmIAy",
        "outputId": "ff7df793-7a46-4a27-f816-51900843871c"
      },
      "source": [
        "model.evaluate(test_x, test_y, batch_size=5000)"
      ],
      "execution_count": null,
      "outputs": [
        {
          "output_type": "stream",
          "text": [
            "2/2 [==============================] - ETA: 0s - loss: 0.5092 - accuracy: 0.8653WARNING:tensorflow:Callbacks method `on_test_batch_end` is slow compared to the batch time (batch time: 0.0178s vs `on_test_batch_end` time: 0.4352s). Check your callbacks.\n",
            "2/2 [==============================] - 0s 243ms/step - loss: 0.5092 - accuracy: 0.8653\n"
          ],
          "name": "stdout"
        },
        {
          "output_type": "execute_result",
          "data": {
            "text/plain": [
              "[0.5092214941978455, 0.8652999997138977]"
            ]
          },
          "metadata": {
            "tags": []
          },
          "execution_count": 11
        }
      ]
    },
    {
      "cell_type": "code",
      "metadata": {
        "colab": {
          "base_uri": "https://localhost:8080/"
        },
        "id": "vdmCWVNJPyKT",
        "outputId": "18e816f8-672c-4704-d7b8-cd7a4d4f649d"
      },
      "source": [
        "model.load_weights(best_weights)\n",
        "model.compile(optimizer=optim, loss=cost_function, metrics=['accuracy'])\n",
        "model.evaluate(test_x, test_y, batch_size=5000)"
      ],
      "execution_count": null,
      "outputs": [
        {
          "output_type": "stream",
          "text": [
            "2/2 [==============================] - ETA: 0s - loss: 0.5092 - accuracy: 0.8653WARNING:tensorflow:Callbacks method `on_test_batch_end` is slow compared to the batch time (batch time: 0.0163s vs `on_test_batch_end` time: 0.4347s). Check your callbacks.\n",
            "2/2 [==============================] - 1s 443ms/step - loss: 0.5092 - accuracy: 0.8653\n"
          ],
          "name": "stdout"
        },
        {
          "output_type": "execute_result",
          "data": {
            "text/plain": [
              "[0.5092214941978455, 0.8652999997138977]"
            ]
          },
          "metadata": {
            "tags": []
          },
          "execution_count": 12
        }
      ]
    },
    {
      "cell_type": "code",
      "metadata": {
        "colab": {
          "base_uri": "https://localhost:8080/",
          "height": 293
        },
        "id": "uoZdmNtuP0gm",
        "outputId": "ec7460d8-f4ea-4456-b667-dcc04e1ce33c"
      },
      "source": [
        "plt.plot(trained_model.history['accuracy'])\n",
        "plt.plot(trained_model.history['val_accuracy'])\n",
        "plt.title('model accuracy')\n",
        "plt.ylabel('accuracy')\n",
        "plt.xlabel('epoch')\n",
        "plt.legend(['train_acc', 'val_acc'], loc='upper left')\n",
        "\n",
        "print(np.max(trained_model.history['accuracy']))\n",
        "print(np.max(trained_model.history['val_accuracy']))"
      ],
      "execution_count": null,
      "outputs": [
        {
          "output_type": "stream",
          "text": [
            "0.9527111053466797\n",
            "0.8741999864578247\n"
          ],
          "name": "stdout"
        },
        {
          "output_type": "display_data",
          "data": {
            "image/png": "[encoded data removed]",
            "text/plain": [
              "<Figure size 432x288 with 1 Axes>"
            ]
          },
          "metadata": {
            "tags": [],
            "needs_background": "light"
          }
        }
      ]
    },
    {
      "cell_type": "code",
      "metadata": {
        "colab": {
          "base_uri": "https://localhost:8080/",
          "height": 289
        },
        "id": "q6-0b4qZQKM9",
        "outputId": "a0e7603b-7d22-4785-8c19-d2312ad117d8"
      },
      "source": [
        "plt.plot(trained_model.history['loss'])\n",
        "plt.plot(trained_model.history['val_loss'])\n",
        "plt.title('model loss')\n",
        "plt.ylabel('loss')\n",
        "plt.xlabel('epoch')\n",
        "plt.legend(['train', 'val'], loc='upper left')\n",
        "\n",
        "print(np.min(trained_model.history['loss']))\n",
        "print(np.min(trained_model.history['val_loss']))"
      ],
      "execution_count": null,
      "outputs": [
        {
          "output_type": "stream",
          "text": [
            "0.16519895195960999\n",
            "0.4527044892311096\n"
          ],
          "name": "stdout"
        },
        {
          "output_type": "display_data",
          "data": {
            "image/png": "[encoded data removed]",
            "text/plain": [
              "<Figure size 432x288 with 1 Axes>"
            ]
          },
          "metadata": {
            "tags": [],
            "needs_background": "light"
          }
        }
      ]
    },
    {
      "cell_type": "markdown",
      "metadata": {
        "id": "q-iFl6nBWrA7"
      },
      "source": [
        "**Plot weights of Kernels**"
      ]
    },
    {
      "cell_type": "code",
      "metadata": {
        "colab": {
          "base_uri": "https://localhost:8080/"
        },
        "id": "cq0mSjT9Qoq6",
        "outputId": "d5967f88-0a0b-4df0-9050-f053d7989dde"
      },
      "source": [
        "print(\"model.layers is a list of 7 objects\")\n",
        "print(type(model.layers),len(model.layers))\n",
        "print(\"\")\n",
        "print(\"These 7 objects are:\")\n",
        "print(\"(1) weights & biases of Conv1\")\n",
        "print(\"(2) weights & biases of Pool1\")\n",
        "print(\"(3) weights & biases of Conv2\")\n",
        "print(\"(4) weights & biases of Pool2\")\n",
        "print(\"(5) weights & biases of the flatten layer\")\n",
        "print(\"(6) weights & biases of the first dense layer\")\n",
        "print(\"(7) weights & biases of the (dense) ouput layer\")\n",
        "print(\"\")\n",
        "print(\"Kernal Weights from input to feature map 1 of Conv1\")\n",
        "print('')\n",
        "print(model.layers[0].get_weights()[0][:,:,0,0])\n",
        "print('')\n",
        "print(\"Kernal Weights from input to feature map 2 of Conv1\")\n",
        "print('')\n",
        "print(model.layers[0].get_weights()[0][:,:,0,1])\n",
        "print('')\n",
        "print(\"Kernal Weights from input to feature map 3 of Conv1\")\n",
        "print('')\n",
        "print(model.layers[0].get_weights()[0][:,:,0,2])\n",
        "print('')\n",
        "print(\"Kernal Weights from input to feature map 4 of Conv1\")\n",
        "print('')\n",
        "print(model.layers[0].get_weights()[0][:,:,0,3])\n",
        "print('')\n",
        "print(\"Kernal Weights from input to feature map 5 of Conv1\")\n",
        "print('')\n",
        "print(model.layers[0].get_weights()[0][:,:,0,4])\n",
        "print('')\n",
        "print(\"Kernal Weights from input to feature map 6 of Conv1\")\n",
        "print('')\n",
        "print(model.layers[0].get_weights()[0][:,:,0,5])\n",
        "print('')\n",
        "print(\"Kernal Weights from input to feature map 7 of Conv1\")\n",
        "print('')\n",
        "print(model.layers[0].get_weights()[0][:,:,0,6])\n",
        "print('')\n",
        "print(\"Kernal Weights from input to feature map 8 of Conv1\")\n",
        "print('')\n",
        "print(model.layers[0].get_weights()[0][:,:,0,7])\n",
        "print('')\n",
        "print(\"Kernal Weights from input to feature map 9 of Conv1\")\n",
        "print('')\n",
        "print(model.layers[0].get_weights()[0][:,:,0,8])  # 5x5x1   5x5x3\n",
        "print('')\n",
        "print(\"Kernal Weights from input to feature map 10 of Conv1\")\n",
        "print('')\n",
        "print(model.layers[0].get_weights()[0][:,:,0,9])  # 5x5x1   5x5x3\n",
        "print('')\n",
        "print(\"Kernal Weights from input to feature map 11 of Conv1\")\n",
        "print('')\n",
        "print(model.layers[0].get_weights()[0][:,:,0,10])  # 5x5x1   5x5x3\n",
        "print('')\n",
        "print(\"Kernal Weights from input to feature map 12 of Conv1\")\n",
        "print('')\n",
        "print(model.layers[0].get_weights()[0][:,:,0,11])  # 5x5x1   5x5x3\n",
        "print('')\n",
        "print(\"Kernal Weights from input to feature map 13 of Conv1\")\n",
        "print('')\n",
        "print(model.layers[0].get_weights()[0][:,:,0,12])  # 5x5x1   5x5x3\n",
        "print('')\n",
        "print(\"Kernal Weights from input to feature map 14 of Conv1\")\n",
        "print('')\n",
        "print(model.layers[0].get_weights()[0][:,:,0,13])  # 5x5x1   5x5x3\n",
        "print('')\n",
        "print(\"Kernal Weights from input to feature map 15 of Conv1\")\n",
        "print('')\n",
        "print(model.layers[0].get_weights()[0][:,:,0,14])\n",
        "print('')\n",
        "print(\"Kernal Weights from input to feature map 16 of Conv1\")\n",
        "print('')\n",
        "print(model.layers[0].get_weights()[0][:,:,0,15])\n",
        "print('')\n",
        "print(\"Kernal Weights from input to feature map 17 of Conv1\")\n",
        "print('')\n",
        "print(model.layers[0].get_weights()[0][:,:,0,16])\n",
        "print('')\n",
        "print(\"Kernal Weights from input to feature map 18 of Conv1\")\n",
        "print('')\n",
        "print(model.layers[0].get_weights()[0][:,:,0,17])\n",
        "print('')\n",
        "print(\"Kernal Weights from input to feature map 19 of Conv1\")\n",
        "print('')\n",
        "print(model.layers[0].get_weights()[0][:,:,0,18])\n",
        "print('')\n",
        "print(\"Kernal Weights from input to feature map 20 of Conv1\")\n",
        "print('')\n",
        "print(model.layers[0].get_weights()[0][:,:,0,19])\n",
        "print('')\n",
        "print(\"Biases of all 128 maps of the first convolutional layer\")\n",
        "print('')\n",
        "print(model.layers[0].get_weights()[1])\n",
        "print(\"\")\n",
        "print(\"Kernal Weights from Conv1 layer to the Pool1 layer\")\n",
        "print('')\n",
        "print(model.layers[1].get_weights())\n",
        "print('')\n",
        "print(\"Bias of all 32 maps of the Pool1 layer\")\n",
        "print('')\n",
        "print(model.layers[1].get_weights())\n",
        "\n"
      ],
      "execution_count": null,
      "outputs": [
        {
          "output_type": "stream",
          "text": [
            "model.layers is a list of 7 objects\n",
            "<class 'list'> 29\n",
            "\n",
            "These 7 objects are:\n",
            "(1) weights & biases of Conv1\n",
            "(2) weights & biases of Pool1\n",
            "(3) weights & biases of Conv2\n",
            "(4) weights & biases of Pool2\n",
            "(5) weights & biases of the flatten layer\n",
            "(6) weights & biases of the first dense layer\n",
            "(7) weights & biases of the (dense) ouput layer\n",
            "\n",
            "Kernal Weights from input to feature map 1 of Conv1\n",
            "\n",
            "[[-0.03125853  0.00834867 -0.00585765]\n",
            " [ 0.04419725 -0.00745635  0.00334662]\n",
            " [ 0.04080281  0.03652125  0.011704  ]]\n",
            "\n",
            "Kernal Weights from input to feature map 2 of Conv1\n",
            "\n",
            "[[-0.03483864  0.04990203  0.0027793 ]\n",
            " [ 0.04020449 -0.01929627 -0.01231721]\n",
            " [ 0.03437578  0.04415894 -0.00814299]]\n",
            "\n",
            "Kernal Weights from input to feature map 3 of Conv1\n",
            "\n",
            "[[ 0.03506618  0.02435937  0.01167815]\n",
            " [-0.01442595 -0.05721055 -0.04246827]\n",
            " [-0.07047289  0.05681028 -0.04782699]]\n",
            "\n",
            "Kernal Weights from input to feature map 4 of Conv1\n",
            "\n",
            "[[ 0.0022211   0.0352364   0.06065395]\n",
            " [-0.07180813 -0.00279991  0.03300504]\n",
            " [-0.03354561 -0.05829832  0.04543395]]\n",
            "\n",
            "Kernal Weights from input to feature map 5 of Conv1\n",
            "\n",
            "[[ 0.04040069 -0.07292674  0.00958816]\n",
            " [ 0.07444018  0.00297432  0.0581506 ]\n",
            " [ 0.04173796 -0.00182618 -0.04959346]]\n",
            "\n",
            "Kernal Weights from input to feature map 6 of Conv1\n",
            "\n",
            "[[ 0.0526017  -0.0146648   0.03878035]\n",
            " [-0.03112439  0.05974531 -0.03977358]\n",
            " [-0.03060979  0.02096495 -0.03636053]]\n",
            "\n",
            "Kernal Weights from input to feature map 7 of Conv1\n",
            "\n",
            "[[ 0.01226355  0.04999722  0.0619321 ]\n",
            " [-0.01252548  0.00724261 -0.01222062]\n",
            " [ 0.03922626  0.00690796 -0.01652336]]\n",
            "\n",
            "Kernal Weights from input to feature map 8 of Conv1\n",
            "\n",
            "[[-0.01500791 -0.07961459  0.01644377]\n",
            " [ 0.02506757 -0.00129477  0.03217509]\n",
            " [-0.04982916  0.03266668  0.04938887]]\n",
            "\n",
            "Kernal Weights from input to feature map 9 of Conv1\n",
            "\n",
            "[[ 0.0350292  -0.05879672 -0.01594096]\n",
            " [-0.06501368  0.0103569   0.01825068]\n",
            " [-0.04099456 -0.05356497 -0.01792038]]\n",
            "\n",
            "Kernal Weights from input to feature map 10 of Conv1\n",
            "\n",
            "[[ 0.05531517 -0.0704147   0.03597547]\n",
            " [-0.0046594   0.01326843  0.01004668]\n",
            " [ 0.01299066 -0.00120539 -0.04439295]]\n",
            "\n",
            "Kernal Weights from input to feature map 11 of Conv1\n",
            "\n",
            "[[ 0.06400646  0.08002749  0.04295763]\n",
            " [-0.02890721  0.04836523  0.06633413]\n",
            " [-0.0497393  -0.06817751 -0.06743208]]\n",
            "\n",
            "Kernal Weights from input to feature map 12 of Conv1\n",
            "\n",
            "[[ 0.0933307  -0.02435732 -0.03994417]\n",
            " [-0.01370957  0.06357137 -0.0704761 ]\n",
            " [ 0.00800745 -0.06453742 -0.01460286]]\n",
            "\n",
            "Kernal Weights from input to feature map 13 of Conv1\n",
            "\n",
            "[[-0.01891042  0.03941898  0.06692492]\n",
            " [-0.08256791 -0.04307344  0.01313287]\n",
            " [ 0.03898726 -0.01306541 -0.01138182]]\n",
            "\n",
            "Kernal Weights from input to feature map 14 of Conv1\n",
            "\n",
            "[[-0.05308663  0.0350427   0.0331472 ]\n",
            " [-0.06286222 -0.02063284  0.0014895 ]\n",
            " [-0.02149247  0.06438376  0.06721861]]\n",
            "\n",
            "Kernal Weights from input to feature map 15 of Conv1\n",
            "\n",
            "[[-0.02287094 -0.06446984  0.06033527]\n",
            " [-0.00252727 -0.05822951 -0.04354036]\n",
            " [ 0.05785647  0.04326896  0.02417331]]\n",
            "\n",
            "Kernal Weights from input to feature map 16 of Conv1\n",
            "\n",
            "[[ 0.04332326 -0.0138774  -0.04461326]\n",
            " [ 0.05153787 -0.00212178 -0.02830154]\n",
            " [-0.00352542  0.01707775 -0.06872679]]\n",
            "\n",
            "Kernal Weights from input to feature map 17 of Conv1\n",
            "\n",
            "[[ 0.08330551 -0.04294922 -0.05540262]\n",
            " [-0.06250394  0.05496315  0.05884844]\n",
            " [-0.05646063 -0.01477806  0.01724107]]\n",
            "\n",
            "Kernal Weights from input to feature map 18 of Conv1\n",
            "\n",
            "[[-0.07351086  0.00998243 -0.07808091]\n",
            " [-0.01415149 -0.0542859  -0.00061604]\n",
            " [ 0.00893932 -0.04223074 -0.1004442 ]]\n",
            "\n",
            "Kernal Weights from input to feature map 19 of Conv1\n",
            "\n",
            "[[-0.05365418 -0.00115957 -0.030645  ]\n",
            " [-0.08747741 -0.00550028  0.02510336]\n",
            " [ 0.05878779  0.0427889  -0.01582184]]\n",
            "\n",
            "Kernal Weights from input to feature map 20 of Conv1\n",
            "\n",
            "[[-0.00747605  0.04276036  0.02948428]\n",
            " [-0.08223471 -0.05897079  0.07413331]\n",
            " [-0.0358524   0.00992028 -0.06784424]]\n",
            "\n",
            "Biases of all 128 maps of the first convolutional layer\n",
            "\n",
            "[ 7.11428979e-03  2.41635763e-03  1.48458667e-02  8.49470310e-03\n",
            "  7.82429613e-03  9.93812457e-03 -5.13139442e-02  1.17197270e-02\n",
            "  4.42675687e-03 -2.10764110e-02  1.63415801e-02 -3.93327251e-02\n",
            "  6.29049586e-03  9.91316605e-03 -1.54770333e-02  1.33106969e-02\n",
            "  1.02246702e-02  1.86432712e-02  1.30082248e-02 -1.05137154e-02\n",
            "  1.20030791e-02  7.65485642e-03  1.52104357e-02 -1.23223674e-03\n",
            "  1.12422351e-02 -2.71482510e-03  7.74572883e-03 -4.29638522e-03\n",
            " -8.34915042e-03  1.49305640e-02 -2.65640989e-02  1.22020431e-02\n",
            "  9.99207236e-03  1.23852901e-02  6.52462291e-03  8.25204607e-03\n",
            "  4.01536375e-03 -5.32341935e-03  1.26147950e-02  1.14038074e-02\n",
            "  3.72437313e-02 -3.85716395e-03  8.13905802e-03  7.05818273e-03\n",
            "  5.65181766e-03  1.01842675e-02 -1.21586071e-02  2.21568290e-02\n",
            "  1.83274329e-03  1.30394856e-02  1.04287388e-02  1.16522452e-02\n",
            " -4.05293666e-02  7.63121014e-03  1.49633819e-02  3.73816909e-03\n",
            " -7.76358321e-03  3.71234189e-03  8.15627072e-03  1.12542240e-02\n",
            " -1.83826126e-02  9.63762775e-03  1.14794029e-02  6.32458413e-03\n",
            "  1.20225353e-02  1.04423575e-02  1.19041866e-02  1.53081175e-02\n",
            "  1.32621033e-02  1.31968539e-02  1.26857916e-03  7.69067975e-03\n",
            "  1.22364135e-02  9.24170204e-03  1.55552290e-02  2.72592157e-02\n",
            "  5.98508492e-03 -2.68614106e-03  1.23220915e-02  8.98554642e-03\n",
            "  6.43025059e-03  1.49749806e-02  6.85697375e-03 -1.62974410e-02\n",
            "  1.52733140e-02  1.30753247e-02 -6.25471771e-02  2.11914051e-02\n",
            "  4.93319798e-03  7.58172246e-03  8.72925948e-03 -9.18481778e-03\n",
            "  6.28556916e-03 -1.96492821e-02  2.28620190e-02 -2.04563290e-02\n",
            " -3.14302882e-03  1.16643524e-02  8.41345266e-03  8.38247710e-04\n",
            "  7.34910602e-03  8.52180179e-03  2.51436413e-05  6.72226865e-03\n",
            " -2.99287308e-03  1.85254794e-02  1.30571043e-02  1.99150648e-02\n",
            "  9.30782966e-03 -2.45538750e-03  2.61984736e-04  8.29342194e-03\n",
            "  5.31565864e-03  3.38290050e-03  8.01543053e-03  1.10080070e-03\n",
            "  7.36668054e-03  9.23778024e-03  9.59414244e-03  9.94116347e-03\n",
            "  1.17709823e-02  3.05010891e-03  8.64594337e-03  8.88727140e-03\n",
            "  1.11062275e-02  1.21152084e-02  5.70400571e-03  1.04393745e-02]\n",
            "\n",
            "Kernal Weights from Conv1 layer to the Pool1 layer\n",
            "\n",
            "[]\n",
            "\n",
            "Bias of all 32 maps of the Pool1 layer\n",
            "\n",
            "[]\n"
          ],
          "name": "stdout"
        }
      ]
    },
    {
      "cell_type": "code",
      "metadata": {
        "colab": {
          "base_uri": "https://localhost:8080/"
        },
        "id": "L-r2OH8bpJTb",
        "outputId": "c4bddbfc-72cc-4873-8256-91a01dd2c90a"
      },
      "source": [
        "#Conv1\n",
        "conv1_kernels = model.layers[0].get_weights()[0]\n",
        "print('conv1_kernels.shape:{}'.format(conv1_kernels.shape))\n",
        "conv1_biases = model.layers[0].get_weights()[1]\n",
        "print('conv1_biases.shape:{}\\n'.format(conv1_biases.shape))\n",
        "\n"
      ],
      "execution_count": null,
      "outputs": [
        {
          "output_type": "stream",
          "text": [
            "conv1_kernels.shape:(3, 3, 3, 128)\n",
            "conv1_biases.shape:(128,)\n",
            "\n"
          ],
          "name": "stdout"
        }
      ]
    },
    {
      "cell_type": "code",
      "metadata": {
        "colab": {
          "base_uri": "https://localhost:8080/",
          "height": 67
        },
        "id": "hc9am1UI0VJL",
        "outputId": "7b073362-4094-4e91-9ac6-69d3235aa609"
      },
      "source": [
        "## First channel\n",
        "fig, axes = plt.subplots(2, 16, figsize=(16,2), subplot_kw={'xticks': [], 'yticks': []})\n",
        "#fig.subplots_adjust(left=0.12, bottom=0.5, right=0.89, top=0.9, wspace=0.1, hspace=0.21)\n",
        "axes = axes.flatten()\n",
        "for i in range(len(axes)):\n",
        "    axes[i].imshow(conv1_kernels[:,:,0,i], cmap='gray')\n",
        "    axes[i].set_title('Map'+str(i+1), fontsize=8)\n",
        "#plt.suptitle('Conv1 Kernels')\n",
        "plt.show()\n",
        "# imshow normalizes the kernel weights to between 0 and 1, then converts them to grayscale 0 to 255\n",
        "# black is 0 and white is 255"
      ],
      "execution_count": null,
      "outputs": [
        {
          "output_type": "display_data",
          "data": {
            "image/png": "[encoded data removed]",
            "text/plain": [
              "<Figure size 1152x144 with 32 Axes>"
            ]
          },
          "metadata": {
            "tags": []
          }
        }
      ]
    },
    {
      "cell_type": "code",
      "metadata": {
        "colab": {
          "base_uri": "https://localhost:8080/",
          "height": 67
        },
        "id": "SNNex9AP2YRb",
        "outputId": "0b93e284-7972-4ce2-f830-31fc982d7e27"
      },
      "source": [
        "## second channel\n",
        "fig, axes = plt.subplots(2, 16, figsize=(16,2), subplot_kw={'xticks': [], 'yticks': []})\n",
        "#fig.subplots_adjust(left=0.12, bottom=0.5, right=0.89, top=0.9, wspace=0.1, hspace=0.21)\n",
        "axes = axes.flatten()\n",
        "for i in range(len(axes)):\n",
        "    axes[i].imshow(conv1_kernels[:,:,1,i], cmap='gray')\n",
        "    axes[i].set_title('Map'+str(i+1), fontsize=8)\n",
        "#plt.suptitle('Conv1 Kernels')\n",
        "plt.show()\n",
        "# imshow normalizes the kernel weights to between 0 and 1, then converts them to grayscale 0 to 255\n",
        "# black is 0 and white is 255"
      ],
      "execution_count": null,
      "outputs": [
        {
          "output_type": "display_data",
          "data": {
            "image/png": "[encoded data removed]",
            "text/plain": [
              "<Figure size 1152x144 with 32 Axes>"
            ]
          },
          "metadata": {
            "tags": []
          }
        }
      ]
    },
    {
      "cell_type": "code",
      "metadata": {
        "colab": {
          "base_uri": "https://localhost:8080/",
          "height": 67
        },
        "id": "Q9W7lgwo2jW-",
        "outputId": "2ddf4cdb-30a1-46ed-bf40-badb7ff9c772"
      },
      "source": [
        "## third channel\n",
        "fig, axes = plt.subplots(2, 16, figsize=(16,2), subplot_kw={'xticks': [], 'yticks': []})\n",
        "#fig.subplots_adjust(left=0.12, bottom=0.5, right=0.89, top=0.9, wspace=0.1, hspace=0.21)\n",
        "axes = axes.flatten()\n",
        "for i in range(len(axes)):\n",
        "    axes[i].imshow(conv1_kernels[:,:,2,i], cmap='gray')\n",
        "    axes[i].set_title('Map'+str(i+1), fontsize=8)\n",
        "#plt.suptitle('Conv1 Kernels')\n",
        "plt.show()\n",
        "# imshow normalizes the kernel weights to between 0 and 1, then converts them to grayscale 0 to 255\n",
        "# black is 0 and white is 255"
      ],
      "execution_count": null,
      "outputs": [
        {
          "output_type": "display_data",
          "data": {
            "image/png": "[encoded data removed]",
            "text/plain": [
              "<Figure size 1152x144 with 32 Axes>"
            ]
          },
          "metadata": {
            "tags": []
          }
        }
      ]
    },
    {
      "cell_type": "code",
      "metadata": {
        "colab": {
          "base_uri": "https://localhost:8080/"
        },
        "id": "p6apy9nS0jKA",
        "outputId": "23d36c85-4e1d-4dfc-8f44-2ca779679dc6"
      },
      "source": [
        "\n",
        "import tensorflow.compat.v1 as tf\n",
        "tf.disable_v2_behavior()\n",
        "\n",
        "image_placeholder = tf.placeholder(tf.float32, shape=[1,32,32,1])\n",
        "kernel_placeholder = tf.placeholder(tf.float32, shape=[3,3,1,1])\n",
        "# 3x3 kernel with 1 input channels and 1 output channel/map\n",
        "conv_strides_1d = [1, 1, 1, 1]\n",
        "inter = tf.squeeze(tf.nn.conv2d(image_placeholder,kernel_placeholder,strides=conv_strides_1d,padding='VALID'))\n",
        "sess= tf.Session()\n",
        "init_op = tf.global_variables_initializer()\n",
        "sess.run(init_op)"
      ],
      "execution_count": null,
      "outputs": [
        {
          "output_type": "stream",
          "text": [
            "WARNING:tensorflow:From /usr/local/lib/python3.6/dist-packages/tensorflow/python/compat/v2_compat.py:96: disable_resource_variables (from tensorflow.python.ops.variable_scope) is deprecated and will be removed in a future version.\n",
            "Instructions for updating:\n",
            "non-resource variables are not supported in the long term\n"
          ],
          "name": "stdout"
        }
      ]
    },
    {
      "cell_type": "code",
      "metadata": {
        "colab": {
          "base_uri": "https://localhost:8080/",
          "height": 322
        },
        "id": "h2vWd69R4Emm",
        "outputId": "62b62fe1-8b98-42a4-9e16-b9044d189a44"
      },
      "source": [
        "\n",
        "\n",
        "\n",
        "# Call the frst kernel of C1\n",
        "K1=conv1_kernels[:,:,0,0]\n",
        "print('train_x[1,:,:,0].shape is {}'.format(train_x[1,:,:,0].shape))\n",
        "image = train_x[1,:,:,0].reshape(1,32,32,1)\n",
        "kernel = K1.reshape(3,3,1,1)\n",
        "result1 = sess.run(inter,feed_dict ={image_placeholder:image,kernel_placeholder:kernel})\n",
        "plt.imshow(result1)\n",
        "\n",
        "\n",
        "\n",
        "\n",
        "\n"
      ],
      "execution_count": null,
      "outputs": [
        {
          "output_type": "stream",
          "text": [
            "train_x[1,:,:,0].shape is (32, 32)\n"
          ],
          "name": "stdout"
        },
        {
          "output_type": "execute_result",
          "data": {
            "text/plain": [
              "<matplotlib.image.AxesImage at 0x7f9273b3d748>"
            ]
          },
          "metadata": {
            "tags": []
          },
          "execution_count": 21
        },
        {
          "output_type": "display_data",
          "data": {
            "image/png": "[encoded data removed]",
            "text/plain": [
              "<Figure size 432x288 with 1 Axes>"
            ]
          },
          "metadata": {
            "tags": [],
            "needs_background": "light"
          }
        }
      ]
    },
    {
      "cell_type": "code",
      "metadata": {
        "colab": {
          "base_uri": "https://localhost:8080/",
          "height": 322
        },
        "id": "Rlnuux1s6vgX",
        "outputId": "5bf773e8-f525-4e58-bdc0-b85ce8d540ca"
      },
      "source": [
        "#  C2\n",
        "K2=conv1_kernels[:,:,0,1]\n",
        "print('train_x[1,:,:,0].shape is {}'.format(train_x[1,:,:,0].shape))\n",
        "image = train_x[1,:,:,0].reshape(1,32,32,1)\n",
        "kernel = K2.reshape(3,3,1,1)\n",
        "result2 = sess.run(inter,feed_dict ={image_placeholder:image,kernel_placeholder:kernel})\n",
        "plt.imshow(result2)"
      ],
      "execution_count": null,
      "outputs": [
        {
          "output_type": "stream",
          "text": [
            "train_x[1,:,:,0].shape is (32, 32)\n"
          ],
          "name": "stdout"
        },
        {
          "output_type": "execute_result",
          "data": {
            "text/plain": [
              "<matplotlib.image.AxesImage at 0x7f9273b20400>"
            ]
          },
          "metadata": {
            "tags": []
          },
          "execution_count": 22
        },
        {
          "output_type": "display_data",
          "data": {
            "image/png": "[encoded data removed]",
            "text/plain": [
              "<Figure size 432x288 with 1 Axes>"
            ]
          },
          "metadata": {
            "tags": [],
            "needs_background": "light"
          }
        }
      ]
    },
    {
      "cell_type": "code",
      "metadata": {
        "colab": {
          "base_uri": "https://localhost:8080/",
          "height": 322
        },
        "id": "wYj5DYiH9hf0",
        "outputId": "d56da21f-4b36-4d1b-912f-f1b0cff1eaaa"
      },
      "source": [
        "#  C3\n",
        "K2=conv1_kernels[:,:,0,2]\n",
        "print('train_x[1,:,:,0].shape is {}'.format(train_x[1,:,:,0].shape))\n",
        "image = train_x[1,:,:,0].reshape(1,32,32,1)\n",
        "kernel = K2.reshape(3,3,1,1)\n",
        "result2 = sess.run(inter,feed_dict ={image_placeholder:image,kernel_placeholder:kernel})\n",
        "plt.imshow(result2)"
      ],
      "execution_count": null,
      "outputs": [
        {
          "output_type": "stream",
          "text": [
            "train_x[1,:,:,0].shape is (32, 32)\n"
          ],
          "name": "stdout"
        },
        {
          "output_type": "execute_result",
          "data": {
            "text/plain": [
              "<matplotlib.image.AxesImage at 0x7f9273a77fd0>"
            ]
          },
          "metadata": {
            "tags": []
          },
          "execution_count": 23
        },
        {
          "output_type": "display_data",
          "data": {
            "image/png": "[encoded data removed]",
            "text/plain": [
              "<Figure size 432x288 with 1 Axes>"
            ]
          },
          "metadata": {
            "tags": [],
            "needs_background": "light"
          }
        }
      ]
    },
    {
      "cell_type": "code",
      "metadata": {
        "colab": {
          "base_uri": "https://localhost:8080/",
          "height": 322
        },
        "id": "QOxV6HVo9lzG",
        "outputId": "28147fa9-9593-41bc-ff0a-34447476d2f1"
      },
      "source": [
        "#  C4\n",
        "K2=conv1_kernels[:,:,0,3]\n",
        "print('train_x[1,:,:,0].shape is {}'.format(train_x[1,:,:,0].shape))\n",
        "image = train_x[1,:,:,0].reshape(1,32,32,1)\n",
        "kernel = K2.reshape(3,3,1,1)\n",
        "result2 = sess.run(inter,feed_dict ={image_placeholder:image,kernel_placeholder:kernel})\n",
        "plt.imshow(result2)"
      ],
      "execution_count": null,
      "outputs": [
        {
          "output_type": "stream",
          "text": [
            "train_x[1,:,:,0].shape is (32, 32)\n"
          ],
          "name": "stdout"
        },
        {
          "output_type": "execute_result",
          "data": {
            "text/plain": [
              "<matplotlib.image.AxesImage at 0x7f9273a56c18>"
            ]
          },
          "metadata": {
            "tags": []
          },
          "execution_count": 24
        },
        {
          "output_type": "display_data",
          "data": {
            "image/png": "[encoded data removed]",
            "text/plain": [
              "<Figure size 432x288 with 1 Axes>"
            ]
          },
          "metadata": {
            "tags": [],
            "needs_background": "light"
          }
        }
      ]
    },
    {
      "cell_type": "code",
      "metadata": {
        "colab": {
          "base_uri": "https://localhost:8080/",
          "height": 322
        },
        "id": "99FDMHWb9tlM",
        "outputId": "6c4c306d-783e-40e3-d682-4f05bcd9c783"
      },
      "source": [
        "#  C5\n",
        "K2=conv1_kernels[:,:,0,4]\n",
        "print('train_x[1,:,:,0].shape is {}'.format(train_x[1,:,:,0].shape))\n",
        "image = train_x[1,:,:,0].reshape(1,32,32,1)\n",
        "kernel = K2.reshape(3,3,1,1)\n",
        "result2 = sess.run(inter,feed_dict ={image_placeholder:image,kernel_placeholder:kernel})\n",
        "plt.imshow(result2)"
      ],
      "execution_count": null,
      "outputs": [
        {
          "output_type": "stream",
          "text": [
            "train_x[1,:,:,0].shape is (32, 32)\n"
          ],
          "name": "stdout"
        },
        {
          "output_type": "execute_result",
          "data": {
            "text/plain": [
              "<matplotlib.image.AxesImage at 0x7f9273978860>"
            ]
          },
          "metadata": {
            "tags": []
          },
          "execution_count": 25
        },
        {
          "output_type": "display_data",
          "data": {
            "image/png": "[encoded data removed]",
            "text/plain": [
              "<Figure size 432x288 with 1 Axes>"
            ]
          },
          "metadata": {
            "tags": [],
            "needs_background": "light"
          }
        }
      ]
    },
    {
      "cell_type": "code",
      "metadata": {
        "colab": {
          "base_uri": "https://localhost:8080/",
          "height": 322
        },
        "id": "ZrN6zZV29yZl",
        "outputId": "14ed34f5-8ee0-448d-9b86-64d10fea634e"
      },
      "source": [
        "#  C6\n",
        "K2=conv1_kernels[:,:,0,5]\n",
        "print('train_x[1,:,:,0].shape is {}'.format(train_x[1,:,:,0].shape))\n",
        "image = train_x[1,:,:,0].reshape(1,32,32,1)\n",
        "kernel = K2.reshape(3,3,1,1)\n",
        "result2 = sess.run(inter,feed_dict ={image_placeholder:image,kernel_placeholder:kernel})\n",
        "plt.imshow(result2)"
      ],
      "execution_count": null,
      "outputs": [
        {
          "output_type": "stream",
          "text": [
            "train_x[1,:,:,0].shape is (32, 32)\n"
          ],
          "name": "stdout"
        },
        {
          "output_type": "execute_result",
          "data": {
            "text/plain": [
              "<matplotlib.image.AxesImage at 0x7f92738db4a8>"
            ]
          },
          "metadata": {
            "tags": []
          },
          "execution_count": 26
        },
        {
          "output_type": "display_data",
          "data": {
            "image/png": "[encoded data removed]",
            "text/plain": [
              "<Figure size 432x288 with 1 Axes>"
            ]
          },
          "metadata": {
            "tags": [],
            "needs_background": "light"
          }
        }
      ]
    },
    {
      "cell_type": "code",
      "metadata": {
        "colab": {
          "base_uri": "https://localhost:8080/",
          "height": 322
        },
        "id": "k-v3AlsA92CV",
        "outputId": "ec6b3f56-d1ae-4b77-ea3b-3fab4ab40047"
      },
      "source": [
        "#  C7\n",
        "K2=conv1_kernels[:,:,0,6]\n",
        "print('train_x[1,:,:,0].shape is {}'.format(train_x[1,:,:,0].shape))\n",
        "image = train_x[1,:,:,0].reshape(1,32,32,1)\n",
        "kernel = K2.reshape(3,3,1,1)\n",
        "result2 = sess.run(inter,feed_dict ={image_placeholder:image,kernel_placeholder:kernel})\n",
        "plt.imshow(result2)"
      ],
      "execution_count": null,
      "outputs": [
        {
          "output_type": "stream",
          "text": [
            "train_x[1,:,:,0].shape is (32, 32)\n"
          ],
          "name": "stdout"
        },
        {
          "output_type": "execute_result",
          "data": {
            "text/plain": [
              "<matplotlib.image.AxesImage at 0x7f9270c360f0>"
            ]
          },
          "metadata": {
            "tags": []
          },
          "execution_count": 27
        },
        {
          "output_type": "display_data",
          "data": {
            "image/png": "[encoded data removed]",
            "text/plain": [
              "<Figure size 432x288 with 1 Axes>"
            ]
          },
          "metadata": {
            "tags": [],
            "needs_background": "light"
          }
        }
      ]
    },
    {
      "cell_type": "code",
      "metadata": {
        "colab": {
          "base_uri": "https://localhost:8080/",
          "height": 322
        },
        "id": "PYiUscSk96Rs",
        "outputId": "2579750c-421e-4bbc-ee4a-24329067220e"
      },
      "source": [
        "#  C8\n",
        "K2=conv1_kernels[:,:,0,7]\n",
        "print('train_x[1,:,:,0].shape is {}'.format(train_x[1,:,:,0].shape))\n",
        "image = train_x[1,:,:,0].reshape(1,32,32,1)\n",
        "kernel = K2.reshape(3,3,1,1)\n",
        "result2 = sess.run(inter,feed_dict ={image_placeholder:image,kernel_placeholder:kernel})\n",
        "plt.imshow(result2)"
      ],
      "execution_count": null,
      "outputs": [
        {
          "output_type": "stream",
          "text": [
            "train_x[1,:,:,0].shape is (32, 32)\n"
          ],
          "name": "stdout"
        },
        {
          "output_type": "execute_result",
          "data": {
            "text/plain": [
              "<matplotlib.image.AxesImage at 0x7f9270c0bcf8>"
            ]
          },
          "metadata": {
            "tags": []
          },
          "execution_count": 28
        },
        {
          "output_type": "display_data",
          "data": {
            "image/png": "[encoded data removed]",
            "text/plain": [
              "<Figure size 432x288 with 1 Axes>"
            ]
          },
          "metadata": {
            "tags": [],
            "needs_background": "light"
          }
        }
      ]
    },
    {
      "cell_type": "code",
      "metadata": {
        "colab": {
          "base_uri": "https://localhost:8080/",
          "height": 322
        },
        "id": "4RLhkv_R99Wd",
        "outputId": "f979986d-8c14-4709-e17f-27b5f2ec93fc"
      },
      "source": [
        "#  C9\n",
        "K2=conv1_kernels[:,:,0,8]\n",
        "print('train_x[1,:,:,0].shape is {}'.format(train_x[1,:,:,0].shape))\n",
        "image = train_x[1,:,:,0].reshape(1,32,32,1)\n",
        "kernel = K2.reshape(3,3,1,1)\n",
        "result2 = sess.run(inter,feed_dict ={image_placeholder:image,kernel_placeholder:kernel})\n",
        "plt.imshow(result2)"
      ],
      "execution_count": null,
      "outputs": [
        {
          "output_type": "stream",
          "text": [
            "train_x[1,:,:,0].shape is (32, 32)\n"
          ],
          "name": "stdout"
        },
        {
          "output_type": "execute_result",
          "data": {
            "text/plain": [
              "<matplotlib.image.AxesImage at 0x7f9270beb940>"
            ]
          },
          "metadata": {
            "tags": []
          },
          "execution_count": 29
        },
        {
          "output_type": "display_data",
          "data": {
            "image/png": "[encoded data removed]",
            "text/plain": [
              "<Figure size 432x288 with 1 Axes>"
            ]
          },
          "metadata": {
            "tags": [],
            "needs_background": "light"
          }
        }
      ]
    },
    {
      "cell_type": "code",
      "metadata": {
        "colab": {
          "base_uri": "https://localhost:8080/",
          "height": 322
        },
        "id": "t9ULR3bj-DtT",
        "outputId": "42388871-f992-49da-bce9-f00503b4703c"
      },
      "source": [
        "#  C10\n",
        "K2=conv1_kernels[:,:,0,9]\n",
        "print('train_x[1,:,:,0].shape is {}'.format(train_x[1,:,:,0].shape))\n",
        "image = train_x[1,:,:,0].reshape(1,32,32,1)\n",
        "kernel = K2.reshape(3,3,1,1)\n",
        "result2 = sess.run(inter,feed_dict ={image_placeholder:image,kernel_placeholder:kernel})\n",
        "plt.imshow(result2)"
      ],
      "execution_count": null,
      "outputs": [
        {
          "output_type": "stream",
          "text": [
            "train_x[1,:,:,0].shape is (32, 32)\n"
          ],
          "name": "stdout"
        },
        {
          "output_type": "execute_result",
          "data": {
            "text/plain": [
              "<matplotlib.image.AxesImage at 0x7f9270b4d588>"
            ]
          },
          "metadata": {
            "tags": []
          },
          "execution_count": 30
        },
        {
          "output_type": "display_data",
          "data": {
            "image/png": "[encoded data removed]",
            "text/plain": [
              "<Figure size 432x288 with 1 Axes>"
            ]
          },
          "metadata": {
            "tags": [],
            "needs_background": "light"
          }
        }
      ]
    },
    {
      "cell_type": "code",
      "metadata": {
        "colab": {
          "base_uri": "https://localhost:8080/",
          "height": 322
        },
        "id": "MhKovmXI-sye",
        "outputId": "f830038a-c5fe-46cd-a2f5-b9dc4737c8bb"
      },
      "source": [
        "#  C11\n",
        "K2=conv1_kernels[:,:,0,10]\n",
        "print('train_x[1,:,:,0].shape is {}'.format(train_x[1,:,:,0].shape))\n",
        "image = train_x[1,:,:,0].reshape(1,32,32,1)\n",
        "kernel = K2.reshape(3,3,1,1)\n",
        "result2 = sess.run(inter,feed_dict ={image_placeholder:image,kernel_placeholder:kernel})\n",
        "plt.imshow(result2)"
      ],
      "execution_count": null,
      "outputs": [
        {
          "output_type": "stream",
          "text": [
            "train_x[1,:,:,0].shape is (32, 32)\n"
          ],
          "name": "stdout"
        },
        {
          "output_type": "execute_result",
          "data": {
            "text/plain": [
              "<matplotlib.image.AxesImage at 0x7f9270aae1d0>"
            ]
          },
          "metadata": {
            "tags": []
          },
          "execution_count": 31
        },
        {
          "output_type": "display_data",
          "data": {
            "image/png": "[encoded data removed]",
            "text/plain": [
              "<Figure size 432x288 with 1 Axes>"
            ]
          },
          "metadata": {
            "tags": [],
            "needs_background": "light"
          }
        }
      ]
    },
    {
      "cell_type": "code",
      "metadata": {
        "colab": {
          "base_uri": "https://localhost:8080/",
          "height": 322
        },
        "id": "d0RRi30A-8ct",
        "outputId": "70d2c60c-8991-4836-a960-e8ec70233804"
      },
      "source": [
        "#  C12\n",
        "K2=conv1_kernels[:,:,0,11]\n",
        "print('train_x[1,:,:,0].shape is {}'.format(train_x[1,:,:,0].shape))\n",
        "image = train_x[1,:,:,0].reshape(1,32,32,1)\n",
        "kernel = K2.reshape(3,3,1,1)\n",
        "result2 = sess.run(inter,feed_dict ={image_placeholder:image,kernel_placeholder:kernel})\n",
        "plt.imshow(result2)"
      ],
      "execution_count": null,
      "outputs": [
        {
          "output_type": "stream",
          "text": [
            "train_x[1,:,:,0].shape is (32, 32)\n"
          ],
          "name": "stdout"
        },
        {
          "output_type": "execute_result",
          "data": {
            "text/plain": [
              "<matplotlib.image.AxesImage at 0x7f9270a84dd8>"
            ]
          },
          "metadata": {
            "tags": []
          },
          "execution_count": 32
        },
        {
          "output_type": "display_data",
          "data": {
            "image/png": "[encoded data removed]",
            "text/plain": [
              "<Figure size 432x288 with 1 Axes>"
            ]
          },
          "metadata": {
            "tags": [],
            "needs_background": "light"
          }
        }
      ]
    },
    {
      "cell_type": "code",
      "metadata": {
        "colab": {
          "base_uri": "https://localhost:8080/",
          "height": 322
        },
        "id": "axV77PpV-_tw",
        "outputId": "e47c73fd-2cf2-47ab-a306-b96ad18dab24"
      },
      "source": [
        "#  C13\n",
        "K2=conv1_kernels[:,:,0,12]\n",
        "print('train_x[1,:,:,0].shape is {}'.format(train_x[1,:,:,0].shape))\n",
        "image = train_x[1,:,:,0].reshape(1,32,32,1)\n",
        "kernel = K2.reshape(3,3,1,1)\n",
        "result2 = sess.run(inter,feed_dict ={image_placeholder:image,kernel_placeholder:kernel})\n",
        "plt.imshow(result2)"
      ],
      "execution_count": null,
      "outputs": [
        {
          "output_type": "stream",
          "text": [
            "train_x[1,:,:,0].shape is (32, 32)\n"
          ],
          "name": "stdout"
        },
        {
          "output_type": "execute_result",
          "data": {
            "text/plain": [
              "<matplotlib.image.AxesImage at 0x7f9270a67a20>"
            ]
          },
          "metadata": {
            "tags": []
          },
          "execution_count": 33
        },
        {
          "output_type": "display_data",
          "data": {
            "image/png": "[encoded data removed]",
            "text/plain": [
              "<Figure size 432x288 with 1 Axes>"
            ]
          },
          "metadata": {
            "tags": [],
            "needs_background": "light"
          }
        }
      ]
    },
    {
      "cell_type": "code",
      "metadata": {
        "colab": {
          "base_uri": "https://localhost:8080/",
          "height": 322
        },
        "id": "tlWVxVDL_CYz",
        "outputId": "2e7d6325-f744-4191-cc3a-3b04cae806dc"
      },
      "source": [
        "#  C14\n",
        "K2=conv1_kernels[:,:,0,13]\n",
        "print('train_x[1,:,:,0].shape is {}'.format(train_x[1,:,:,0].shape))\n",
        "image = train_x[1,:,:,0].reshape(1,32,32,1)\n",
        "kernel = K2.reshape(3,3,1,1)\n",
        "result2 = sess.run(inter,feed_dict ={image_placeholder:image,kernel_placeholder:kernel})\n",
        "plt.imshow(result2)"
      ],
      "execution_count": null,
      "outputs": [
        {
          "output_type": "stream",
          "text": [
            "train_x[1,:,:,0].shape is (32, 32)\n"
          ],
          "name": "stdout"
        },
        {
          "output_type": "execute_result",
          "data": {
            "text/plain": [
              "<matplotlib.image.AxesImage at 0x7f92709c6668>"
            ]
          },
          "metadata": {
            "tags": []
          },
          "execution_count": 34
        },
        {
          "output_type": "display_data",
          "data": {
            "image/png": "[encoded data removed]",
            "text/plain": [
              "<Figure size 432x288 with 1 Axes>"
            ]
          },
          "metadata": {
            "tags": [],
            "needs_background": "light"
          }
        }
      ]
    },
    {
      "cell_type": "code",
      "metadata": {
        "colab": {
          "base_uri": "https://localhost:8080/",
          "height": 322
        },
        "id": "OrbFvXtN_E_g",
        "outputId": "1be12d3c-09f8-4eeb-9c8a-cb80bdfbd76f"
      },
      "source": [
        "#  C15\n",
        "K2=conv1_kernels[:,:,0,14]\n",
        "print('train_x[1,:,:,0].shape is {}'.format(train_x[1,:,:,0].shape))\n",
        "image = train_x[1,:,:,0].reshape(1,32,32,1)\n",
        "kernel = K2.reshape(3,3,1,1)\n",
        "result2 = sess.run(inter,feed_dict ={image_placeholder:image,kernel_placeholder:kernel})\n",
        "plt.imshow(result2)"
      ],
      "execution_count": null,
      "outputs": [
        {
          "output_type": "stream",
          "text": [
            "train_x[1,:,:,0].shape is (32, 32)\n"
          ],
          "name": "stdout"
        },
        {
          "output_type": "execute_result",
          "data": {
            "text/plain": [
              "<matplotlib.image.AxesImage at 0x7f92709a92b0>"
            ]
          },
          "metadata": {
            "tags": []
          },
          "execution_count": 35
        },
        {
          "output_type": "display_data",
          "data": {
            "image/png": "[encoded data removed]",
            "text/plain": [
              "<Figure size 432x288 with 1 Axes>"
            ]
          },
          "metadata": {
            "tags": [],
            "needs_background": "light"
          }
        }
      ]
    },
    {
      "cell_type": "code",
      "metadata": {
        "colab": {
          "base_uri": "https://localhost:8080/",
          "height": 322
        },
        "id": "qvUsRr-E_IQM",
        "outputId": "5ff03340-fd65-4ed3-83b2-7e1b37e6b762"
      },
      "source": [
        "#  C16\n",
        "K2=conv1_kernels[:,:,0,15]\n",
        "print('train_x[1,:,:,0].shape is {}'.format(train_x[1,:,:,0].shape))\n",
        "image = train_x[1,:,:,0].reshape(1,32,32,1)\n",
        "kernel = K2.reshape(3,3,1,1)\n",
        "result2 = sess.run(inter,feed_dict ={image_placeholder:image,kernel_placeholder:kernel})\n",
        "plt.imshow(result2)"
      ],
      "execution_count": null,
      "outputs": [
        {
          "output_type": "stream",
          "text": [
            "train_x[1,:,:,0].shape is (32, 32)\n"
          ],
          "name": "stdout"
        },
        {
          "output_type": "execute_result",
          "data": {
            "text/plain": [
              "<matplotlib.image.AxesImage at 0x7f9270901eb8>"
            ]
          },
          "metadata": {
            "tags": []
          },
          "execution_count": 36
        },
        {
          "output_type": "display_data",
          "data": {
            "image/png": "[encoded data removed]",
            "text/plain": [
              "<Figure size 432x288 with 1 Axes>"
            ]
          },
          "metadata": {
            "tags": [],
            "needs_background": "light"
          }
        }
      ]
    },
    {
      "cell_type": "code",
      "metadata": {
        "colab": {
          "base_uri": "https://localhost:8080/",
          "height": 322
        },
        "id": "N7EEwqdI_Lbm",
        "outputId": "22f7edee-27ef-4692-d2c0-90fdf745faf2"
      },
      "source": [
        "#  C17\n",
        "K2=conv1_kernels[:,:,0,16]\n",
        "print('train_x[1,:,:,0].shape is {}'.format(train_x[1,:,:,0].shape))\n",
        "image = train_x[1,:,:,0].reshape(1,32,32,1)\n",
        "kernel = K2.reshape(3,3,1,1)\n",
        "result2 = sess.run(inter,feed_dict ={image_placeholder:image,kernel_placeholder:kernel})\n",
        "plt.imshow(result2)"
      ],
      "execution_count": null,
      "outputs": [
        {
          "output_type": "stream",
          "text": [
            "train_x[1,:,:,0].shape is (32, 32)\n"
          ],
          "name": "stdout"
        },
        {
          "output_type": "execute_result",
          "data": {
            "text/plain": [
              "<matplotlib.image.AxesImage at 0x7f92708e1b00>"
            ]
          },
          "metadata": {
            "tags": []
          },
          "execution_count": 37
        },
        {
          "output_type": "display_data",
          "data": {
            "image/png": "[encoded data removed]",
            "text/plain": [
              "<Figure size 432x288 with 1 Axes>"
            ]
          },
          "metadata": {
            "tags": [],
            "needs_background": "light"
          }
        }
      ]
    },
    {
      "cell_type": "code",
      "metadata": {
        "colab": {
          "base_uri": "https://localhost:8080/",
          "height": 322
        },
        "id": "-0O7Tzzt_Ow7",
        "outputId": "e023120e-9cf3-4e9e-9a65-81daf2aeff3c"
      },
      "source": [
        "#  C18\n",
        "K2=conv1_kernels[:,:,0,17]\n",
        "print('train_x[1,:,:,0].shape is {}'.format(train_x[1,:,:,0].shape))\n",
        "image = train_x[1,:,:,0].reshape(1,32,32,1)\n",
        "kernel = K2.reshape(3,3,1,1)\n",
        "result2 = sess.run(inter,feed_dict ={image_placeholder:image,kernel_placeholder:kernel})\n",
        "plt.imshow(result2)"
      ],
      "execution_count": null,
      "outputs": [
        {
          "output_type": "stream",
          "text": [
            "train_x[1,:,:,0].shape is (32, 32)\n"
          ],
          "name": "stdout"
        },
        {
          "output_type": "execute_result",
          "data": {
            "text/plain": [
              "<matplotlib.image.AxesImage at 0x7f9270843748>"
            ]
          },
          "metadata": {
            "tags": []
          },
          "execution_count": 38
        },
        {
          "output_type": "display_data",
          "data": {
            "image/png": "[encoded data removed]",
            "text/plain": [
              "<Figure size 432x288 with 1 Axes>"
            ]
          },
          "metadata": {
            "tags": [],
            "needs_background": "light"
          }
        }
      ]
    },
    {
      "cell_type": "code",
      "metadata": {
        "colab": {
          "base_uri": "https://localhost:8080/",
          "height": 322
        },
        "id": "66JYZY8D_Tg7",
        "outputId": "8d9b132e-8db2-49bd-c371-e2b495c323eb"
      },
      "source": [
        "#  C19\n",
        "K2=conv1_kernels[:,:,0,18]\n",
        "print('train_x[1,:,:,0].shape is {}'.format(train_x[1,:,:,0].shape))\n",
        "image = train_x[1,:,:,0].reshape(1,32,32,1)\n",
        "kernel = K2.reshape(3,3,1,1)\n",
        "result2 = sess.run(inter,feed_dict ={image_placeholder:image,kernel_placeholder:kernel})\n",
        "plt.imshow(result2)"
      ],
      "execution_count": null,
      "outputs": [
        {
          "output_type": "stream",
          "text": [
            "train_x[1,:,:,0].shape is (32, 32)\n"
          ],
          "name": "stdout"
        },
        {
          "output_type": "execute_result",
          "data": {
            "text/plain": [
              "<matplotlib.image.AxesImage at 0x7f927081f438>"
            ]
          },
          "metadata": {
            "tags": []
          },
          "execution_count": 39
        },
        {
          "output_type": "display_data",
          "data": {
            "image/png": "[encoded data removed]",
            "text/plain": [
              "<Figure size 432x288 with 1 Axes>"
            ]
          },
          "metadata": {
            "tags": [],
            "needs_background": "light"
          }
        }
      ]
    },
    {
      "cell_type": "code",
      "metadata": {
        "colab": {
          "base_uri": "https://localhost:8080/",
          "height": 322
        },
        "id": "V_TWwxrE_Wqb",
        "outputId": "2df81dd2-657c-4f61-9399-4031405c3d21"
      },
      "source": [
        "#  C20\n",
        "K2=conv1_kernels[:,:,0,19]\n",
        "print('train_x[1,:,:,0].shape is {}'.format(train_x[1,:,:,0].shape))\n",
        "image = train_x[1,:,:,0].reshape(1,32,32,1)\n",
        "kernel = K2.reshape(3,3,1,1)\n",
        "result2 = sess.run(inter,feed_dict ={image_placeholder:image,kernel_placeholder:kernel})\n",
        "plt.imshow(result2)"
      ],
      "execution_count": null,
      "outputs": [
        {
          "output_type": "stream",
          "text": [
            "train_x[1,:,:,0].shape is (32, 32)\n"
          ],
          "name": "stdout"
        },
        {
          "output_type": "execute_result",
          "data": {
            "text/plain": [
              "<matplotlib.image.AxesImage at 0x7f9270779f98>"
            ]
          },
          "metadata": {
            "tags": []
          },
          "execution_count": 40
        },
        {
          "output_type": "display_data",
          "data": {
            "image/png": "[encoded data removed]",
            "text/plain": [
              "<Figure size 432x288 with 1 Axes>"
            ]
          },
          "metadata": {
            "tags": [],
            "needs_background": "light"
          }
        }
      ]
    },
    {
      "cell_type": "code",
      "metadata": {
        "colab": {
          "base_uri": "https://localhost:8080/",
          "height": 304
        },
        "id": "bPzEjFZS_axj",
        "outputId": "06cb7ffb-9139-42a5-b7c0-8b13b3bc0d89"
      },
      "source": [
        "plt.imshow(train_x[1,:,:,0])"
      ],
      "execution_count": null,
      "outputs": [
        {
          "output_type": "execute_result",
          "data": {
            "text/plain": [
              "<matplotlib.image.AxesImage at 0x7f92e001bac8>"
            ]
          },
          "metadata": {
            "tags": []
          },
          "execution_count": 41
        },
        {
          "output_type": "display_data",
          "data": {
            "image/png": "[encoded data removed]",
            "text/plain": [
              "<Figure size 432x288 with 1 Axes>"
            ]
          },
          "metadata": {
            "tags": [],
            "needs_background": "light"
          }
        }
      ]
    },
    {
      "cell_type": "code",
      "metadata": {
        "colab": {
          "base_uri": "https://localhost:8080/",
          "height": 304
        },
        "id": "yt9mEUsdAHTS",
        "outputId": "ec04c918-1b0b-4e44-975f-3152a5700554"
      },
      "source": [
        "plt.imshow(train_x[1,:,:,0])"
      ],
      "execution_count": null,
      "outputs": [
        {
          "output_type": "execute_result",
          "data": {
            "text/plain": [
              "<matplotlib.image.AxesImage at 0x7f92737f5ba8>"
            ]
          },
          "metadata": {
            "tags": []
          },
          "execution_count": 42
        },
        {
          "output_type": "display_data",
          "data": {
            "image/png": "[encoded data removed]",
            "text/plain": [
              "<Figure size 432x288 with 1 Axes>"
            ]
          },
          "metadata": {
            "tags": [],
            "needs_background": "light"
          }
        }
      ]
    },
    {
      "cell_type": "code",
      "metadata": {
        "id": "3qwkDyxfYvsF"
      },
      "source": [],
      "execution_count": null,
      "outputs": []
    }
  ]
}